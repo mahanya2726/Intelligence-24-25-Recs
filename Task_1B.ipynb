{
 "cells": [
  {
   "cell_type": "code",
   "execution_count": 1,
   "id": "47ead9dd-be04-4af5-b9ab-0e6436163fc8",
   "metadata": {},
   "outputs": [],
   "source": [
    "import numpy as np\n",
    "import pandas as pd\n",
    "import matplotlib.pyplot as plt"
   ]
  },
  {
   "cell_type": "code",
   "execution_count": 3,
   "id": "64a9d171-c426-4ad8-9514-b392fa5d0ac2",
   "metadata": {},
   "outputs": [],
   "source": [
    "df=pd.read_csv(\"news_train.csv\")"
   ]
  },
  {
   "cell_type": "code",
   "execution_count": 5,
   "id": "0ebf6616-8b21-4f11-b5b5-44405f6f1ef2",
   "metadata": {},
   "outputs": [
    {
     "data": {
      "text/html": [
       "<div>\n",
       "<style scoped>\n",
       "    .dataframe tbody tr th:only-of-type {\n",
       "        vertical-align: middle;\n",
       "    }\n",
       "\n",
       "    .dataframe tbody tr th {\n",
       "        vertical-align: top;\n",
       "    }\n",
       "\n",
       "    .dataframe thead th {\n",
       "        text-align: right;\n",
       "    }\n",
       "</style>\n",
       "<table border=\"1\" class=\"dataframe\">\n",
       "  <thead>\n",
       "    <tr style=\"text-align: right;\">\n",
       "      <th></th>\n",
       "      <th>ID</th>\n",
       "      <th>News_title</th>\n",
       "      <th>News_headline</th>\n",
       "      <th>Category</th>\n",
       "    </tr>\n",
       "  </thead>\n",
       "  <tbody>\n",
       "    <tr>\n",
       "      <th>6717</th>\n",
       "      <td>6718</td>\n",
       "      <td>Ten standout quotes from the #Modi1 speech in ...</td>\n",
       "      <td>Won't stop, won't bend, says PM on NDA governm...</td>\n",
       "      <td>politics</td>\n",
       "    </tr>\n",
       "    <tr>\n",
       "      <th>1182</th>\n",
       "      <td>1183</td>\n",
       "      <td>Rajasthan panchayat ordinance is unjust and un...</td>\n",
       "      <td>By setting arbitrary standards the government ...</td>\n",
       "      <td>politics</td>\n",
       "    </tr>\n",
       "    <tr>\n",
       "      <th>10196</th>\n",
       "      <td>10197</td>\n",
       "      <td>Everyone's happy about Yogi Adityanath as UP C...</td>\n",
       "      <td>BJP won 325 seats without putting up a single ...</td>\n",
       "      <td>politics</td>\n",
       "    </tr>\n",
       "    <tr>\n",
       "      <th>13301</th>\n",
       "      <td>13302</td>\n",
       "      <td>The anti-national’s guide to Indian nationalists</td>\n",
       "      <td>Try to emulate Arnab Goswami because if you do...</td>\n",
       "      <td>humour</td>\n",
       "    </tr>\n",
       "    <tr>\n",
       "      <th>1042</th>\n",
       "      <td>1043</td>\n",
       "      <td>How Karni Sena harassed Team Padmavati to hono...</td>\n",
       "      <td>Sanjay Leela Bhansali's squad left the discuss...</td>\n",
       "      <td>politics</td>\n",
       "    </tr>\n",
       "    <tr>\n",
       "      <th>3282</th>\n",
       "      <td>3283</td>\n",
       "      <td>Why Pakistan is waiting and watching India: Pa...</td>\n",
       "      <td>Pakistan extending a general closure notice fo...</td>\n",
       "      <td>politics</td>\n",
       "    </tr>\n",
       "  </tbody>\n",
       "</table>\n",
       "</div>"
      ],
      "text/plain": [
       "          ID                                         News_title  \\\n",
       "6717    6718  Ten standout quotes from the #Modi1 speech in ...   \n",
       "1182    1183  Rajasthan panchayat ordinance is unjust and un...   \n",
       "10196  10197  Everyone's happy about Yogi Adityanath as UP C...   \n",
       "13301  13302   The anti-national’s guide to Indian nationalists   \n",
       "1042    1043  How Karni Sena harassed Team Padmavati to hono...   \n",
       "3282    3283  Why Pakistan is waiting and watching India: Pa...   \n",
       "\n",
       "                                           News_headline  Category  \n",
       "6717   Won't stop, won't bend, says PM on NDA governm...  politics  \n",
       "1182   By setting arbitrary standards the government ...  politics  \n",
       "10196  BJP won 325 seats without putting up a single ...  politics  \n",
       "13301  Try to emulate Arnab Goswami because if you do...    humour  \n",
       "1042   Sanjay Leela Bhansali's squad left the discuss...  politics  \n",
       "3282   Pakistan extending a general closure notice fo...  politics  "
      ]
     },
     "execution_count": 5,
     "metadata": {},
     "output_type": "execute_result"
    }
   ],
   "source": [
    "df.sample(6)"
   ]
  },
  {
   "cell_type": "code",
   "execution_count": 231,
   "id": "35651557-0efa-4ce5-a6ba-105ced59acac",
   "metadata": {},
   "outputs": [
    {
     "data": {
      "text/plain": [
       "(15500, 9)"
      ]
     },
     "execution_count": 231,
     "metadata": {},
     "output_type": "execute_result"
    }
   ],
   "source": [
    "df.shape"
   ]
  },
  {
   "cell_type": "code",
   "execution_count": 7,
   "id": "f42ed409-e5c7-4ad8-b127-b8930cd91e84",
   "metadata": {},
   "outputs": [
    {
     "data": {
      "text/plain": [
       "Category\n",
       "politics    11519\n",
       "humour        941\n",
       "sports        898\n",
       "Arts          841\n",
       "tech          728\n",
       "business      649\n",
       "Name: count, dtype: int64"
      ]
     },
     "execution_count": 7,
     "metadata": {},
     "output_type": "execute_result"
    }
   ],
   "source": [
    "df['Category'].value_counts()"
   ]
  },
  {
   "cell_type": "code",
   "execution_count": 9,
   "id": "00b8aa2d-e324-4717-8d73-9f65d7b83efe",
   "metadata": {},
   "outputs": [
    {
     "data": {
      "text/plain": [
       "ID                0\n",
       "News_title        0\n",
       "News_headline    76\n",
       "Category          0\n",
       "dtype: int64"
      ]
     },
     "execution_count": 9,
     "metadata": {},
     "output_type": "execute_result"
    }
   ],
   "source": [
    "df.isnull().sum()"
   ]
  },
  {
   "cell_type": "code",
   "execution_count": 11,
   "id": "b1accaa5-6edb-4c99-b02a-97627b43002a",
   "metadata": {},
   "outputs": [
    {
     "data": {
      "text/plain": [
       "0"
      ]
     },
     "execution_count": 11,
     "metadata": {},
     "output_type": "execute_result"
    }
   ],
   "source": [
    "df.duplicated().sum()"
   ]
  },
  {
   "cell_type": "code",
   "execution_count": 13,
   "id": "63890dc6-7b90-410c-88b9-dc98b1534730",
   "metadata": {},
   "outputs": [],
   "source": [
    "df.dropna(inplace=True)"
   ]
  },
  {
   "cell_type": "code",
   "execution_count": 15,
   "id": "dbdb9c36-44d2-450e-8380-7864580356ea",
   "metadata": {},
   "outputs": [
    {
     "data": {
      "text/plain": [
       "ID               0\n",
       "News_title       0\n",
       "News_headline    0\n",
       "Category         0\n",
       "dtype: int64"
      ]
     },
     "execution_count": 15,
     "metadata": {},
     "output_type": "execute_result"
    }
   ],
   "source": [
    "df.isnull().sum()"
   ]
  },
  {
   "cell_type": "code",
   "execution_count": 17,
   "id": "0d91fc3b-3436-4aa8-9dd6-c2e46a7e38ab",
   "metadata": {},
   "outputs": [],
   "source": [
    "from sklearn.preprocessing import LabelEncoder"
   ]
  },
  {
   "cell_type": "code",
   "execution_count": 19,
   "id": "34b57135-8048-4002-8f9c-b4174183c25c",
   "metadata": {},
   "outputs": [],
   "source": [
    "le=LabelEncoder()"
   ]
  },
  {
   "cell_type": "code",
   "execution_count": 21,
   "id": "5de7e141-f592-4795-8b55-216f42eaa7bc",
   "metadata": {},
   "outputs": [],
   "source": [
    "df['Category']=le.fit_transform(df['Category'])"
   ]
  },
  {
   "cell_type": "code",
   "execution_count": 23,
   "id": "cb890fe9-38aa-4963-964e-b9ddabf27600",
   "metadata": {},
   "outputs": [
    {
     "data": {
      "text/plain": [
       "array(['Arts', 'business', 'humour', 'politics', 'sports', 'tech'],\n",
       "      dtype=object)"
      ]
     },
     "execution_count": 23,
     "metadata": {},
     "output_type": "execute_result"
    }
   ],
   "source": [
    "le.classes_"
   ]
  },
  {
   "cell_type": "code",
   "execution_count": 25,
   "id": "f03475df-7e64-411b-9b64-468984236381",
   "metadata": {},
   "outputs": [
    {
     "data": {
      "text/html": [
       "<div>\n",
       "<style scoped>\n",
       "    .dataframe tbody tr th:only-of-type {\n",
       "        vertical-align: middle;\n",
       "    }\n",
       "\n",
       "    .dataframe tbody tr th {\n",
       "        vertical-align: top;\n",
       "    }\n",
       "\n",
       "    .dataframe thead th {\n",
       "        text-align: right;\n",
       "    }\n",
       "</style>\n",
       "<table border=\"1\" class=\"dataframe\">\n",
       "  <thead>\n",
       "    <tr style=\"text-align: right;\">\n",
       "      <th></th>\n",
       "      <th>ID</th>\n",
       "      <th>News_title</th>\n",
       "      <th>News_headline</th>\n",
       "      <th>Category</th>\n",
       "    </tr>\n",
       "  </thead>\n",
       "  <tbody>\n",
       "    <tr>\n",
       "      <th>0</th>\n",
       "      <td>1</td>\n",
       "      <td>Do men enjoy sex more, or women? The Mahabhara...</td>\n",
       "      <td>[Book Extract] From Anushasana Parva, translat...</td>\n",
       "      <td>0</td>\n",
       "    </tr>\n",
       "    <tr>\n",
       "      <th>1</th>\n",
       "      <td>2</td>\n",
       "      <td>Why you should eat the Demonetisation laddoo</td>\n",
       "      <td>One laddoo equals to one lakh in your Jan Dhan...</td>\n",
       "      <td>2</td>\n",
       "    </tr>\n",
       "    <tr>\n",
       "      <th>2</th>\n",
       "      <td>3</td>\n",
       "      <td>Is the world headed for a new Cold War?</td>\n",
       "      <td>The battle lines have become very clear with R...</td>\n",
       "      <td>3</td>\n",
       "    </tr>\n",
       "    <tr>\n",
       "      <th>3</th>\n",
       "      <td>4</td>\n",
       "      <td>Demonetisation is all about Modi, either you'r...</td>\n",
       "      <td>How many times should this hypocritical drama ...</td>\n",
       "      <td>1</td>\n",
       "    </tr>\n",
       "    <tr>\n",
       "      <th>4</th>\n",
       "      <td>5</td>\n",
       "      <td>Why electoral bonds won't clean up political f...</td>\n",
       "      <td>Union finance minister Arun Jaitley needs to p...</td>\n",
       "      <td>3</td>\n",
       "    </tr>\n",
       "  </tbody>\n",
       "</table>\n",
       "</div>"
      ],
      "text/plain": [
       "   ID                                         News_title  \\\n",
       "0   1  Do men enjoy sex more, or women? The Mahabhara...   \n",
       "1   2       Why you should eat the Demonetisation laddoo   \n",
       "2   3            Is the world headed for a new Cold War?   \n",
       "3   4  Demonetisation is all about Modi, either you'r...   \n",
       "4   5  Why electoral bonds won't clean up political f...   \n",
       "\n",
       "                                       News_headline  Category  \n",
       "0  [Book Extract] From Anushasana Parva, translat...         0  \n",
       "1  One laddoo equals to one lakh in your Jan Dhan...         2  \n",
       "2  The battle lines have become very clear with R...         3  \n",
       "3  How many times should this hypocritical drama ...         1  \n",
       "4  Union finance minister Arun Jaitley needs to p...         3  "
      ]
     },
     "execution_count": 25,
     "metadata": {},
     "output_type": "execute_result"
    }
   ],
   "source": [
    "df.head()"
   ]
  },
  {
   "cell_type": "code",
   "execution_count": 27,
   "id": "9c9c8324-29a7-4c73-8199-c80ced3eb9cc",
   "metadata": {},
   "outputs": [
    {
     "name": "stderr",
     "output_type": "stream",
     "text": [
      "[nltk_data] Downloading package punkt to\n",
      "[nltk_data]     C:\\Users\\mahan\\AppData\\Roaming\\nltk_data...\n",
      "[nltk_data]   Package punkt is already up-to-date!\n"
     ]
    },
    {
     "data": {
      "text/plain": [
       "True"
      ]
     },
     "execution_count": 27,
     "metadata": {},
     "output_type": "execute_result"
    }
   ],
   "source": [
    "import nltk\n",
    "nltk.download('punkt')"
   ]
  },
  {
   "cell_type": "code",
   "execution_count": 29,
   "id": "6f77ee84-6281-4afc-b3d5-b0b222cb4f82",
   "metadata": {},
   "outputs": [],
   "source": [
    "df['words_News_title']=df['News_title'].apply(lambda x: len(nltk.word_tokenize(x)))\n",
    "df['words_News_headline']=df['News_headline'].apply(lambda x: len(nltk.word_tokenize(x)))"
   ]
  },
  {
   "cell_type": "code",
   "execution_count": 30,
   "id": "01596553-17fd-4e8d-a376-d71e60359d0c",
   "metadata": {},
   "outputs": [
    {
     "data": {
      "text/plain": [
       "<Axes: xlabel='Category'>"
      ]
     },
     "execution_count": 30,
     "metadata": {},
     "output_type": "execute_result"
    },
    {
     "data": {
      "image/png": "[encoded data removed]",
      "text/plain": [
       "<Figure size 640x480 with 1 Axes>"
      ]
     },
     "metadata": {},
     "output_type": "display_data"
    }
   ],
   "source": [
    "grouped_data1 = df.groupby('Category')['words_News_title'].mean()\n",
    "grouped_data1.plot(kind='bar')\n"
   ]
  },
  {
   "cell_type": "code",
   "execution_count": 33,
   "id": "7091ca44-a28d-45ad-bdc7-178056c1e778",
   "metadata": {},
   "outputs": [
    {
     "data": {
      "text/plain": [
       "<Axes: xlabel='Category'>"
      ]
     },
     "execution_count": 33,
     "metadata": {},
     "output_type": "execute_result"
    },
    {
     "data": {
      "image/png": "[encoded data removed]",
      "text/plain": [
       "<Figure size 640x480 with 1 Axes>"
      ]
     },
     "metadata": {},
     "output_type": "display_data"
    }
   ],
   "source": [
    "grouped_data2 = df.groupby('Category')['words_News_headline'].mean()\n",
    "grouped_data2.plot(kind='bar')"
   ]
  },
  {
   "cell_type": "code",
   "execution_count": 35,
   "id": "337b2b14-7e24-43e5-b410-5a48b7c329fb",
   "metadata": {},
   "outputs": [
    {
     "name": "stderr",
     "output_type": "stream",
     "text": [
      "[nltk_data] Downloading package stopwords to\n",
      "[nltk_data]     C:\\Users\\mahan\\AppData\\Roaming\\nltk_data...\n",
      "[nltk_data]   Package stopwords is already up-to-date!\n"
     ]
    },
    {
     "data": {
      "text/plain": [
       "True"
      ]
     },
     "execution_count": 35,
     "metadata": {},
     "output_type": "execute_result"
    }
   ],
   "source": [
    "nltk.download('stopwords')\n"
   ]
  },
  {
   "cell_type": "code",
   "execution_count": 37,
   "id": "f3fc44a1-4b80-4f7e-b3b5-4b50973c359d",
   "metadata": {},
   "outputs": [
    {
     "data": {
      "text/plain": [
       "['i',\n",
       " 'me',\n",
       " 'my',\n",
       " 'myself',\n",
       " 'we',\n",
       " 'our',\n",
       " 'ours',\n",
       " 'ourselves',\n",
       " 'you',\n",
       " \"you're\",\n",
       " \"you've\",\n",
       " \"you'll\",\n",
       " \"you'd\",\n",
       " 'your',\n",
       " 'yours',\n",
       " 'yourself',\n",
       " 'yourselves',\n",
       " 'he',\n",
       " 'him',\n",
       " 'his',\n",
       " 'himself',\n",
       " 'she',\n",
       " \"she's\",\n",
       " 'her',\n",
       " 'hers',\n",
       " 'herself',\n",
       " 'it',\n",
       " \"it's\",\n",
       " 'its',\n",
       " 'itself',\n",
       " 'they',\n",
       " 'them',\n",
       " 'their',\n",
       " 'theirs',\n",
       " 'themselves',\n",
       " 'what',\n",
       " 'which',\n",
       " 'who',\n",
       " 'whom',\n",
       " 'this',\n",
       " 'that',\n",
       " \"that'll\",\n",
       " 'these',\n",
       " 'those',\n",
       " 'am',\n",
       " 'is',\n",
       " 'are',\n",
       " 'was',\n",
       " 'were',\n",
       " 'be',\n",
       " 'been',\n",
       " 'being',\n",
       " 'have',\n",
       " 'has',\n",
       " 'had',\n",
       " 'having',\n",
       " 'do',\n",
       " 'does',\n",
       " 'did',\n",
       " 'doing',\n",
       " 'a',\n",
       " 'an',\n",
       " 'the',\n",
       " 'and',\n",
       " 'but',\n",
       " 'if',\n",
       " 'or',\n",
       " 'because',\n",
       " 'as',\n",
       " 'until',\n",
       " 'while',\n",
       " 'of',\n",
       " 'at',\n",
       " 'by',\n",
       " 'for',\n",
       " 'with',\n",
       " 'about',\n",
       " 'against',\n",
       " 'between',\n",
       " 'into',\n",
       " 'through',\n",
       " 'during',\n",
       " 'before',\n",
       " 'after',\n",
       " 'above',\n",
       " 'below',\n",
       " 'to',\n",
       " 'from',\n",
       " 'up',\n",
       " 'down',\n",
       " 'in',\n",
       " 'out',\n",
       " 'on',\n",
       " 'off',\n",
       " 'over',\n",
       " 'under',\n",
       " 'again',\n",
       " 'further',\n",
       " 'then',\n",
       " 'once',\n",
       " 'here',\n",
       " 'there',\n",
       " 'when',\n",
       " 'where',\n",
       " 'why',\n",
       " 'how',\n",
       " 'all',\n",
       " 'any',\n",
       " 'both',\n",
       " 'each',\n",
       " 'few',\n",
       " 'more',\n",
       " 'most',\n",
       " 'other',\n",
       " 'some',\n",
       " 'such',\n",
       " 'no',\n",
       " 'nor',\n",
       " 'not',\n",
       " 'only',\n",
       " 'own',\n",
       " 'same',\n",
       " 'so',\n",
       " 'than',\n",
       " 'too',\n",
       " 'very',\n",
       " 's',\n",
       " 't',\n",
       " 'can',\n",
       " 'will',\n",
       " 'just',\n",
       " 'don',\n",
       " \"don't\",\n",
       " 'should',\n",
       " \"should've\",\n",
       " 'now',\n",
       " 'd',\n",
       " 'll',\n",
       " 'm',\n",
       " 'o',\n",
       " 're',\n",
       " 've',\n",
       " 'y',\n",
       " 'ain',\n",
       " 'aren',\n",
       " \"aren't\",\n",
       " 'couldn',\n",
       " \"couldn't\",\n",
       " 'didn',\n",
       " \"didn't\",\n",
       " 'doesn',\n",
       " \"doesn't\",\n",
       " 'hadn',\n",
       " \"hadn't\",\n",
       " 'hasn',\n",
       " \"hasn't\",\n",
       " 'haven',\n",
       " \"haven't\",\n",
       " 'isn',\n",
       " \"isn't\",\n",
       " 'ma',\n",
       " 'mightn',\n",
       " \"mightn't\",\n",
       " 'mustn',\n",
       " \"mustn't\",\n",
       " 'needn',\n",
       " \"needn't\",\n",
       " 'shan',\n",
       " \"shan't\",\n",
       " 'shouldn',\n",
       " \"shouldn't\",\n",
       " 'wasn',\n",
       " \"wasn't\",\n",
       " 'weren',\n",
       " \"weren't\",\n",
       " 'won',\n",
       " \"won't\",\n",
       " 'wouldn',\n",
       " \"wouldn't\"]"
      ]
     },
     "execution_count": 37,
     "metadata": {},
     "output_type": "execute_result"
    }
   ],
   "source": [
    "from nltk.corpus import stopwords\n",
    "stopwords.words('english')"
   ]
  },
  {
   "cell_type": "code",
   "execution_count": 39,
   "id": "fe256e3d-db2e-4665-8e7e-134b352e8426",
   "metadata": {},
   "outputs": [
    {
     "data": {
      "text/plain": [
       "'!\"#$%&\\'()*+,-./:;<=>?@[\\\\]^_`{|}~'"
      ]
     },
     "execution_count": 39,
     "metadata": {},
     "output_type": "execute_result"
    }
   ],
   "source": [
    "import string\n",
    "string.punctuation"
   ]
  },
  {
   "cell_type": "code",
   "execution_count": 41,
   "id": "057e294c-501d-421d-96e1-63a5491eaef1",
   "metadata": {},
   "outputs": [],
   "source": [
    "from nltk.stem.porter import PorterStemmer\n",
    "ps=PorterStemmer()\n"
   ]
  },
  {
   "cell_type": "code",
   "execution_count": 43,
   "id": "75cb39e1-c009-4b48-bf32-d0784d4d243b",
   "metadata": {},
   "outputs": [],
   "source": [
    "def transform_text(text):\n",
    "    text=text.lower()\n",
    "    text=nltk.word_tokenize(text)\n",
    "    y=[]\n",
    "    for i in text:\n",
    "        if i not in stopwords.words('english') and i not in string.punctuation:\n",
    "            y.append(ps.stem(i))\n",
    "    return ' '.join(y)\n",
    "    \n",
    "             \n",
    "\n"
   ]
  },
  {
   "cell_type": "code",
   "execution_count": 45,
   "id": "17274a83-9d94-447b-8c67-3c97511a4416",
   "metadata": {},
   "outputs": [
    {
     "data": {
      "text/plain": [
       "'book extract anushasana parva translat arshia sattar'"
      ]
     },
     "execution_count": 45,
     "metadata": {},
     "output_type": "execute_result"
    }
   ],
   "source": [
    "transform_text('[Book Extract] From Anushasana Parva, translated by Arshia Sattar.')"
   ]
  },
  {
   "cell_type": "code",
   "execution_count": 47,
   "id": "fbb7661b-6eb7-49f1-9a92-9d2a8b476073",
   "metadata": {},
   "outputs": [
    {
     "data": {
      "text/plain": [
       "'Not much is known about her political acumen, except that she is a key member of the Gandhi family council.'"
      ]
     },
     "execution_count": 47,
     "metadata": {},
     "output_type": "execute_result"
    }
   ],
   "source": [
    "df['News_headline'][1000]"
   ]
  },
  {
   "cell_type": "code",
   "execution_count": 49,
   "id": "9e9f4146-b741-4c47-bb2a-27a09b89ed23",
   "metadata": {},
   "outputs": [],
   "source": [
    "df['transformed_news_title']=df['News_title'].apply(transform_text)"
   ]
  },
  {
   "cell_type": "code",
   "execution_count": 51,
   "id": "8f06074a-6e03-4be6-8f21-62e3b9a8186a",
   "metadata": {},
   "outputs": [],
   "source": [
    "df['transformed_news_headline']=df['News_headline'].apply(transform_text)"
   ]
  },
  {
   "cell_type": "code",
   "execution_count": 53,
   "id": "4a71952f-4f3a-4124-b73d-e5a547c638ba",
   "metadata": {},
   "outputs": [
    {
     "data": {
      "text/html": [
       "<div>\n",
       "<style scoped>\n",
       "    .dataframe tbody tr th:only-of-type {\n",
       "        vertical-align: middle;\n",
       "    }\n",
       "\n",
       "    .dataframe tbody tr th {\n",
       "        vertical-align: top;\n",
       "    }\n",
       "\n",
       "    .dataframe thead th {\n",
       "        text-align: right;\n",
       "    }\n",
       "</style>\n",
       "<table border=\"1\" class=\"dataframe\">\n",
       "  <thead>\n",
       "    <tr style=\"text-align: right;\">\n",
       "      <th></th>\n",
       "      <th>ID</th>\n",
       "      <th>News_title</th>\n",
       "      <th>News_headline</th>\n",
       "      <th>Category</th>\n",
       "      <th>words_News_title</th>\n",
       "      <th>words_News_headline</th>\n",
       "      <th>transformed_news_title</th>\n",
       "      <th>transformed_news_headline</th>\n",
       "    </tr>\n",
       "  </thead>\n",
       "  <tbody>\n",
       "    <tr>\n",
       "      <th>0</th>\n",
       "      <td>1</td>\n",
       "      <td>Do men enjoy sex more, or women? The Mahabhara...</td>\n",
       "      <td>[Book Extract] From Anushasana Parva, translat...</td>\n",
       "      <td>0</td>\n",
       "      <td>12</td>\n",
       "      <td>13</td>\n",
       "      <td>men enjoy sex women mahabharata answer</td>\n",
       "      <td>book extract anushasana parva translat arshia ...</td>\n",
       "    </tr>\n",
       "    <tr>\n",
       "      <th>1</th>\n",
       "      <td>2</td>\n",
       "      <td>Why you should eat the Demonetisation laddoo</td>\n",
       "      <td>One laddoo equals to one lakh in your Jan Dhan...</td>\n",
       "      <td>2</td>\n",
       "      <td>7</td>\n",
       "      <td>15</td>\n",
       "      <td>eat demonetis laddoo</td>\n",
       "      <td>one laddoo equal one lakh jan dhan account nex...</td>\n",
       "    </tr>\n",
       "    <tr>\n",
       "      <th>2</th>\n",
       "      <td>3</td>\n",
       "      <td>Is the world headed for a new Cold War?</td>\n",
       "      <td>The battle lines have become very clear with R...</td>\n",
       "      <td>3</td>\n",
       "      <td>10</td>\n",
       "      <td>22</td>\n",
       "      <td>world head new cold war</td>\n",
       "      <td>battl line becom clear russia iran support bas...</td>\n",
       "    </tr>\n",
       "    <tr>\n",
       "      <th>3</th>\n",
       "      <td>4</td>\n",
       "      <td>Demonetisation is all about Modi, either you'r...</td>\n",
       "      <td>How many times should this hypocritical drama ...</td>\n",
       "      <td>1</td>\n",
       "      <td>14</td>\n",
       "      <td>17</td>\n",
       "      <td>demonetis modi either 're india</td>\n",
       "      <td>mani time hypocrit drama play bother learn</td>\n",
       "    </tr>\n",
       "    <tr>\n",
       "      <th>4</th>\n",
       "      <td>5</td>\n",
       "      <td>Why electoral bonds won't clean up political f...</td>\n",
       "      <td>Union finance minister Arun Jaitley needs to p...</td>\n",
       "      <td>3</td>\n",
       "      <td>9</td>\n",
       "      <td>22</td>\n",
       "      <td>elector bond wo n't clean polit fund</td>\n",
       "      <td>union financ minist arun jaitley need pay heed...</td>\n",
       "    </tr>\n",
       "  </tbody>\n",
       "</table>\n",
       "</div>"
      ],
      "text/plain": [
       "   ID                                         News_title  \\\n",
       "0   1  Do men enjoy sex more, or women? The Mahabhara...   \n",
       "1   2       Why you should eat the Demonetisation laddoo   \n",
       "2   3            Is the world headed for a new Cold War?   \n",
       "3   4  Demonetisation is all about Modi, either you'r...   \n",
       "4   5  Why electoral bonds won't clean up political f...   \n",
       "\n",
       "                                       News_headline  Category  \\\n",
       "0  [Book Extract] From Anushasana Parva, translat...         0   \n",
       "1  One laddoo equals to one lakh in your Jan Dhan...         2   \n",
       "2  The battle lines have become very clear with R...         3   \n",
       "3  How many times should this hypocritical drama ...         1   \n",
       "4  Union finance minister Arun Jaitley needs to p...         3   \n",
       "\n",
       "   words_News_title  words_News_headline  \\\n",
       "0                12                   13   \n",
       "1                 7                   15   \n",
       "2                10                   22   \n",
       "3                14                   17   \n",
       "4                 9                   22   \n",
       "\n",
       "                   transformed_news_title  \\\n",
       "0  men enjoy sex women mahabharata answer   \n",
       "1                    eat demonetis laddoo   \n",
       "2                 world head new cold war   \n",
       "3         demonetis modi either 're india   \n",
       "4    elector bond wo n't clean polit fund   \n",
       "\n",
       "                           transformed_news_headline  \n",
       "0  book extract anushasana parva translat arshia ...  \n",
       "1  one laddoo equal one lakh jan dhan account nex...  \n",
       "2  battl line becom clear russia iran support bas...  \n",
       "3         mani time hypocrit drama play bother learn  \n",
       "4  union financ minist arun jaitley need pay heed...  "
      ]
     },
     "execution_count": 53,
     "metadata": {},
     "output_type": "execute_result"
    }
   ],
   "source": [
    "df.head()"
   ]
  },
  {
   "cell_type": "code",
   "execution_count": 55,
   "id": "fad99d6d-cd38-4d31-a108-d6643f2331b1",
   "metadata": {},
   "outputs": [],
   "source": [
    "from sklearn.feature_extraction.text import CountVectorizer,TfidfVectorizer\n",
    "cv=CountVectorizer()\n",
    "tfidv=TfidfVectorizer()"
   ]
  },
  {
   "cell_type": "code",
   "execution_count": 235,
   "id": "1c3d1783-75f9-41f3-a68e-7f84e12c6974",
   "metadata": {},
   "outputs": [
    {
     "data": {
      "text/plain": [
       "(15500,)"
      ]
     },
     "execution_count": 235,
     "metadata": {},
     "output_type": "execute_result"
    }
   ],
   "source": [
    "df['transformed_news_headline'].shape"
   ]
  },
  {
   "cell_type": "code",
   "execution_count": 57,
   "id": "37d0fb95-e4c5-49d4-9573-b9ad9810cfa7",
   "metadata": {},
   "outputs": [],
   "source": [
    "X_news_headline=tfidv.fit_transform(df['transformed_news_headline']).toarray()\n",
    "X_news_title=tfidv.fit_transform(df['transformed_news_title']).toarray()"
   ]
  },
  {
   "cell_type": "code",
   "execution_count": 59,
   "id": "302bb23c-b412-4cdf-983d-3919b4469f9b",
   "metadata": {},
   "outputs": [],
   "source": [
    "X=np.hstack((X_news_headline,X_news_title))"
   ]
  },
  {
   "cell_type": "code",
   "execution_count": 61,
   "id": "5105b603-a235-482e-9a27-bd2f039dbc26",
   "metadata": {},
   "outputs": [
    {
     "data": {
      "text/plain": [
       "array([[0., 0., 0., ..., 0., 0., 0.],\n",
       "       [0., 0., 0., ..., 0., 0., 0.],\n",
       "       [0., 0., 0., ..., 0., 0., 0.],\n",
       "       ...,\n",
       "       [0., 0., 0., ..., 0., 0., 0.],\n",
       "       [0., 0., 0., ..., 0., 0., 0.],\n",
       "       [0., 0., 0., ..., 0., 0., 0.]])"
      ]
     },
     "execution_count": 61,
     "metadata": {},
     "output_type": "execute_result"
    }
   ],
   "source": [
    "X"
   ]
  },
  {
   "cell_type": "code",
   "execution_count": 223,
   "id": "099a7be7-cc18-4c94-9821-75ef7c8a8e5b",
   "metadata": {},
   "outputs": [],
   "source": [
    "y=df['Category'].values"
   ]
  },
  {
   "cell_type": "code",
   "execution_count": 229,
   "id": "3c4d976c-0846-4dc2-a5bf-5428ca1e413f",
   "metadata": {},
   "outputs": [
    {
     "data": {
      "text/plain": [
       "array([0, 2, 3, ..., 3, 3, 3])"
      ]
     },
     "execution_count": 229,
     "metadata": {},
     "output_type": "execute_result"
    }
   ],
   "source": [
    "y"
   ]
  },
  {
   "cell_type": "code",
   "execution_count": 67,
   "id": "261a495f-30ce-4838-9945-c883fa8d157c",
   "metadata": {},
   "outputs": [],
   "source": [
    "from sklearn.model_selection import train_test_split"
   ]
  },
  {
   "cell_type": "code",
   "execution_count": 69,
   "id": "ae5d0519-4154-436c-a97e-71223c1fd726",
   "metadata": {},
   "outputs": [],
   "source": [
    "X_train,X_test,y_train,y_test=train_test_split(X,y,test_size=0.2,random_state=2)"
   ]
  },
  {
   "cell_type": "code",
   "execution_count": 71,
   "id": "a7dec98c-e3ce-4555-8964-8169447d8e4f",
   "metadata": {},
   "outputs": [],
   "source": [
    "from sklearn.naive_bayes import GaussianNB,MultinomialNB,BernoulliNB\n",
    "from sklearn.metrics import accuracy_score,confusion_matrix,f1_score"
   ]
  },
  {
   "cell_type": "code",
   "execution_count": 73,
   "id": "6573e123-86c3-42ce-a6f8-f86485d02110",
   "metadata": {},
   "outputs": [],
   "source": [
    "gnb=GaussianNB()\n",
    "mnb=MultinomialNB()\n",
    "bnb=BernoulliNB()"
   ]
  },
  {
   "cell_type": "code",
   "execution_count": 75,
   "id": "dc16f96d-296c-4b6f-a119-f98efdfd1bee",
   "metadata": {},
   "outputs": [
    {
     "name": "stdout",
     "output_type": "stream",
     "text": [
      "0.7932258064516129\n",
      "[[  52    0    2  119    0    2]\n",
      " [   0   13    0  109    0    3]\n",
      " [   6    0   26  133    6    0]\n",
      " [  18   11   15 2260    6    3]\n",
      " [   0    0    6  110   56    0]\n",
      " [   0    3    2   87    0   52]]\n",
      "0.750061854878351\n"
     ]
    }
   ],
   "source": [
    "gnb.fit(X_train,y_train)\n",
    "y_pred=gnb.predict(X_test)\n",
    "print(accuracy_score(y_test,y_pred))\n",
    "print(confusion_matrix(y_test,y_pred))\n",
    "print(f1_score(y_test,y_pred,average='weighted'))"
   ]
  },
  {
   "cell_type": "code",
   "execution_count": 77,
   "id": "9e6e10f4-a0b7-43e1-a2ce-a48e48db3618",
   "metadata": {},
   "outputs": [
    {
     "name": "stdout",
     "output_type": "stream",
     "text": [
      "0.7858064516129032\n",
      "[[  19    0    1  154    1    0]\n",
      " [   0    1    0  124    0    0]\n",
      " [   1    0   12  155    3    0]\n",
      " [   0    0    2 2311    0    0]\n",
      " [   0    0    0  118   54    0]\n",
      " [   0    0    0  104    1   39]]\n",
      "0.7177672662616101\n"
     ]
    }
   ],
   "source": [
    "mnb.fit(X_train,y_train)\n",
    "y_pred2=mnb.predict(X_test)\n",
    "print(accuracy_score(y_test,y_pred2))\n",
    "print(confusion_matrix(y_test,y_pred2))\n",
    "print(f1_score(y_test,y_pred2,average='weighted'))"
   ]
  },
  {
   "cell_type": "code",
   "execution_count": 79,
   "id": "0ca11e58-4b45-4d15-aa63-13c6bed5a382",
   "metadata": {},
   "outputs": [
    {
     "name": "stdout",
     "output_type": "stream",
     "text": [
      "0.7680645161290323\n",
      "[[  14    0    2  159    0    0]\n",
      " [   0    2    0  123    0    0]\n",
      " [   0    0    5  165    1    0]\n",
      " [   1    1    0 2311    0    0]\n",
      " [   0    0    0  135   37    0]\n",
      " [   0    0    0  132    0   12]]\n",
      "0.6854248557758518\n"
     ]
    }
   ],
   "source": [
    "bnb.fit(X_train,y_train)\n",
    "y_pred3=bnb.predict(X_test)\n",
    "print(accuracy_score(y_test,y_pred3))\n",
    "print(confusion_matrix(y_test,y_pred3))\n",
    "print(f1_score(y_test,y_pred3,average='weighted'))"
   ]
  },
  {
   "cell_type": "code",
   "execution_count": 81,
   "id": "138c9c6a-f792-48af-a477-222e37e4548a",
   "metadata": {},
   "outputs": [],
   "source": [
    "X_news_headline=cv.fit_transform(df['transformed_news_headline']).toarray()\n",
    "X_news_title=cv.fit_transform(df['transformed_news_title']).toarray()"
   ]
  },
  {
   "cell_type": "code",
   "execution_count": 83,
   "id": "37761b53-5e6a-419e-8958-b7ad4c114795",
   "metadata": {},
   "outputs": [],
   "source": [
    "X=np.hstack((X_news_headline,X_news_title))"
   ]
  },
  {
   "cell_type": "code",
   "execution_count": 129,
   "id": "30bc5a27-0497-4a47-9711-57abccf85a53",
   "metadata": {},
   "outputs": [
    {
     "data": {
      "text/plain": [
       "numpy.ndarray"
      ]
     },
     "execution_count": 129,
     "metadata": {},
     "output_type": "execute_result"
    }
   ],
   "source": [
    "type(y)"
   ]
  },
  {
   "cell_type": "code",
   "execution_count": 87,
   "id": "c3e60fa6-6a95-4eb0-8807-e09a601638fe",
   "metadata": {},
   "outputs": [],
   "source": [
    "X_train,X_test,y_train,y_test=train_test_split(X,y,test_size=0.2,random_state=2)"
   ]
  },
  {
   "cell_type": "code",
   "execution_count": 89,
   "id": "3a4fc837-16a2-451f-aa36-e71a0141a71b",
   "metadata": {},
   "outputs": [],
   "source": [
    "from sklearn.naive_bayes import GaussianNB,MultinomialNB,BernoulliNB\n",
    "from sklearn.metrics import accuracy_score,confusion_matrix,precision_score"
   ]
  },
  {
   "cell_type": "code",
   "execution_count": 91,
   "id": "60971914-cbfa-45d6-9271-3f74794f76df",
   "metadata": {},
   "outputs": [],
   "source": [
    "gnb=GaussianNB()\n",
    "mnb=MultinomialNB()\n",
    "bnb=BernoulliNB()"
   ]
  },
  {
   "cell_type": "code",
   "execution_count": 93,
   "id": "d2a724bf-83b5-4ebe-a302-8b0438e21320",
   "metadata": {},
   "outputs": [
    {
     "name": "stdout",
     "output_type": "stream",
     "text": [
      "0.7964516129032259\n",
      "[[  57    0    5  110    1    2]\n",
      " [   0   10    0  112    0    3]\n",
      " [   7    0   26  130    8    0]\n",
      " [  17   10   19 2258    5    4]\n",
      " [   0    0    5  107   60    0]\n",
      " [   0    3    2   81    0   58]]\n",
      "0.7550389264353387\n"
     ]
    }
   ],
   "source": [
    "gnb.fit(X_train,y_train)\n",
    "y_pred=gnb.predict(X_test)\n",
    "print(accuracy_score(y_test,y_pred))\n",
    "print(confusion_matrix(y_test,y_pred))\n",
    "print(f1_score(y_test,y_pred,average='weighted'))"
   ]
  },
  {
   "cell_type": "code",
   "execution_count": 95,
   "id": "c31b7641-5889-4822-98e6-b4bacc65c4b4",
   "metadata": {},
   "outputs": [
    {
     "name": "stdout",
     "output_type": "stream",
     "text": [
      "0.8606451612903225\n",
      "[[ 105    0    7   60    2    1]\n",
      " [   0   39    0   80    0    6]\n",
      " [  11    2   37  103   16    2]\n",
      " [  14   17   21 2246    8    7]\n",
      " [   1    1    0   21  149    0]\n",
      " [   1    3    1   45    2   92]]\n",
      "0.8424491619884762\n"
     ]
    }
   ],
   "source": [
    "#best fit\n",
    "mnb.fit(X_train,y_train)\n",
    "y_pred2=mnb.predict(X_test)\n",
    "print(accuracy_score(y_test,y_pred2))\n",
    "print(confusion_matrix(y_test,y_pred2))\n",
    "print(f1_score(y_test,y_pred2,average='weighted'))"
   ]
  },
  {
   "cell_type": "code",
   "execution_count": 97,
   "id": "eb20f015-ea9f-4149-9477-514b925494fc",
   "metadata": {},
   "outputs": [
    {
     "name": "stdout",
     "output_type": "stream",
     "text": [
      "0.7680645161290323\n",
      "[[  14    0    2  159    0    0]\n",
      " [   0    2    0  123    0    0]\n",
      " [   0    0    5  165    1    0]\n",
      " [   1    1    0 2311    0    0]\n",
      " [   0    0    0  135   37    0]\n",
      " [   0    0    0  132    0   12]]\n",
      "0.6854248557758518\n"
     ]
    }
   ],
   "source": [
    "bnb.fit(X_train,y_train)\n",
    "y_pred2=bnb.predict(X_test)\n",
    "print(accuracy_score(y_test,y_pred2))\n",
    "print(confusion_matrix(y_test,y_pred2))\n",
    "print(f1_score(y_test,y_pred2,average='weighted'))"
   ]
  },
  {
   "cell_type": "code",
   "execution_count": 99,
   "id": "2cb88ecd-0904-49c5-9581-2db6c88324bd",
   "metadata": {},
   "outputs": [],
   "source": [
    "from sklearn.linear_model import LogisticRegression\n",
    "from sklearn.tree import DecisionTreeClassifier\n",
    "from  sklearn.ensemble import RandomForestClassifier\n",
    "from sklearn.naive_bayes import MultinomialNB\n",
    "\n"
   ]
  },
  {
   "cell_type": "code",
   "execution_count": 101,
   "id": "0f9d0237-bfc0-4bc1-b862-8483c0b42d7a",
   "metadata": {},
   "outputs": [],
   "source": [
    "le=LogisticRegression()\n",
    "dc=DecisionTreeClassifier()\n",
    "rf=RandomForestClassifier()\n",
    "mnb=MultinomialNB()"
   ]
  },
  {
   "cell_type": "code",
   "execution_count": 103,
   "id": "b43abac5-7f88-43ae-8f96-458fb0c4e200",
   "metadata": {},
   "outputs": [
    {
     "data": {
      "text/plain": [
       "0.850123238584561"
      ]
     },
     "execution_count": 103,
     "metadata": {},
     "output_type": "execute_result"
    }
   ],
   "source": [
    "le.fit(X_train,y_train)\n",
    "y_pred=le.predict(X_test)\n",
    "f1_score(y_test,y_pred,average='weighted')"
   ]
  },
  {
   "cell_type": "code",
   "execution_count": 105,
   "id": "6b08cb76-6f6f-4b56-b879-7322aab448ec",
   "metadata": {},
   "outputs": [
    {
     "data": {
      "text/plain": [
       "0.8424491619884762"
      ]
     },
     "execution_count": 105,
     "metadata": {},
     "output_type": "execute_result"
    }
   ],
   "source": [
    "mnb.fit(X_train,y_train)\n",
    "y_pred=mnb.predict(X_test)\n",
    "f1_score(y_test,y_pred,average='weighted')"
   ]
  },
  {
   "cell_type": "code",
   "execution_count": 413,
   "id": "ef3d63c4-ba00-4250-97f7-071603276b24",
   "metadata": {},
   "outputs": [],
   "source": [
    "cv=CountVectorizer(max_features=11000)"
   ]
  },
  {
   "cell_type": "code",
   "execution_count": 415,
   "id": "1c386367-002e-4467-b247-36a6b9565ecd",
   "metadata": {},
   "outputs": [],
   "source": [
    "df['combined_text'] = df['transformed_news_headline'] + \" \" + df['transformed_news_title']"
   ]
  },
  {
   "cell_type": "code",
   "execution_count": 385,
   "id": "b059a81e-e54a-4b65-860d-8fbe0f321d32",
   "metadata": {},
   "outputs": [
    {
     "data": {
      "text/plain": [
       "(15500,)"
      ]
     },
     "execution_count": 385,
     "metadata": {},
     "output_type": "execute_result"
    }
   ],
   "source": [
    "df['combined_text'].shape"
   ]
  },
  {
   "cell_type": "code",
   "execution_count": 417,
   "id": "45c53cb2-b0f8-49ba-8eca-09856eef9721",
   "metadata": {},
   "outputs": [],
   "source": [
    "X_combined_text=cv.fit_transform(df['combined_text']).toarray()\n"
   ]
  },
  {
   "cell_type": "code",
   "execution_count": 354,
   "id": "7b3c1846-6ebc-4743-ba4f-646ab3a54afa",
   "metadata": {},
   "outputs": [
    {
     "data": {
      "text/plain": [
       "(15500, 10000)"
      ]
     },
     "execution_count": 354,
     "metadata": {},
     "output_type": "execute_result"
    }
   ],
   "source": [
    "X_combined_text.shape"
   ]
  },
  {
   "cell_type": "code",
   "execution_count": 357,
   "id": "aa7a9ab0-1117-4ee2-890f-b516bad23c85",
   "metadata": {},
   "outputs": [
    {
     "data": {
      "text/plain": [
       "(15500,)"
      ]
     },
     "execution_count": 357,
     "metadata": {},
     "output_type": "execute_result"
    }
   ],
   "source": [
    "y.shape"
   ]
  },
  {
   "cell_type": "code",
   "execution_count": 419,
   "id": "926cb429-3cc7-4a7a-8064-40d19f52233d",
   "metadata": {},
   "outputs": [],
   "source": [
    "X_train,X_test,y_train,y_test=train_test_split(X_combined_text,y,test_size=0.2,random_state=2)"
   ]
  },
  {
   "cell_type": "code",
   "execution_count": 361,
   "id": "6142f950-21c6-4345-a03d-fea6189d518d",
   "metadata": {},
   "outputs": [
    {
     "name": "stdout",
     "output_type": "stream",
     "text": [
      "(3100, 10000) (3100,)\n"
     ]
    }
   ],
   "source": [
    "print(X_test.shape,y_test.shape)"
   ]
  },
  {
   "cell_type": "code",
   "execution_count": 377,
   "id": "ae0253b2-e179-400b-bb50-a528dd48783a",
   "metadata": {},
   "outputs": [],
   "source": [
    "mnb=MultinomialNB()"
   ]
  },
  {
   "cell_type": "code",
   "execution_count": 365,
   "id": "a463baa8-4441-488d-8481-3deefa17bafc",
   "metadata": {},
   "outputs": [
    {
     "data": {
      "text/plain": [
       "(12400, 10000)"
      ]
     },
     "execution_count": 365,
     "metadata": {},
     "output_type": "execute_result"
    }
   ],
   "source": [
    "X_train.shape"
   ]
  },
  {
   "cell_type": "code",
   "execution_count": 421,
   "id": "a5c0bbf6-daab-41ae-a16e-cd5316fdd4d2",
   "metadata": {},
   "outputs": [
    {
     "data": {
      "text/plain": [
       "0.8633943290686451"
      ]
     },
     "execution_count": 421,
     "metadata": {},
     "output_type": "execute_result"
    }
   ],
   "source": [
    "mnb.fit(X_train,y_train)\n",
    "y_pred=mnb.predict(X_test)\n",
    "f1_score(y_test,y_pred,average='weighted')"
   ]
  },
  {
   "cell_type": "code",
   "execution_count": 345,
   "id": "48c136c7-0314-4428-a95e-2a671d4f0a4c",
   "metadata": {},
   "outputs": [
    {
     "name": "stdout",
     "output_type": "stream",
     "text": [
      "(3100,) (3100,)\n"
     ]
    }
   ],
   "source": [
    "print(y_pred.shape,y_test.shape)"
   ]
  },
  {
   "cell_type": "code",
   "execution_count": 423,
   "id": "d16c9326-516b-431d-8f95-4c1503313b6e",
   "metadata": {},
   "outputs": [
    {
     "data": {
      "text/plain": [
       "0.8519545520550801"
      ]
     },
     "execution_count": 423,
     "metadata": {},
     "output_type": "execute_result"
    }
   ],
   "source": [
    "le.fit(X_train,y_train)\n",
    "y_pred=le.predict(X_test)\n",
    "f1_score(y_test,y_pred,average='weighted')"
   ]
  },
  {
   "cell_type": "code",
   "execution_count": 66,
   "id": "b5ef397c-d385-44d0-88d7-13381b9265a1",
   "metadata": {},
   "outputs": [],
   "source": [
    "#svc.fit(X_train,y_train)\n"
   ]
  },
  {
   "cell_type": "code",
   "execution_count": 425,
   "id": "9266be88-37e2-4d51-a08f-d1d6eb360ac8",
   "metadata": {},
   "outputs": [],
   "source": [
    "test_df=pd.read_csv('test.csv')"
   ]
  },
  {
   "cell_type": "code",
   "execution_count": 427,
   "id": "71cbedd4-d4db-4601-b582-051e9cef8a39",
   "metadata": {},
   "outputs": [
    {
     "name": "stdout",
     "output_type": "stream",
     "text": [
      "(3484, 3)\n"
     ]
    }
   ],
   "source": [
    "\n",
    "print(test_df.shape)"
   ]
  },
  {
   "cell_type": "code",
   "execution_count": 429,
   "id": "d66fb65a-0006-44b7-9040-f7264111a9f8",
   "metadata": {},
   "outputs": [
    {
     "data": {
      "text/plain": [
       "ID                0\n",
       "News_title        0\n",
       "News_headline    16\n",
       "dtype: int64"
      ]
     },
     "execution_count": 429,
     "metadata": {},
     "output_type": "execute_result"
    }
   ],
   "source": [
    "test_df.isnull().sum()"
   ]
  },
  {
   "cell_type": "code",
   "execution_count": 431,
   "id": "855ee550-8f9a-4b5d-aaf0-be85029bcbeb",
   "metadata": {},
   "outputs": [
    {
     "name": "stderr",
     "output_type": "stream",
     "text": [
      "C:\\Users\\mahan\\AppData\\Local\\Temp\\ipykernel_8584\\2022764577.py:1: FutureWarning: A value is trying to be set on a copy of a DataFrame or Series through chained assignment using an inplace method.\n",
      "The behavior will change in pandas 3.0. This inplace method will never work because the intermediate object on which we are setting values always behaves as a copy.\n",
      "\n",
      "For example, when doing 'df[col].method(value, inplace=True)', try using 'df.method({col: value}, inplace=True)' or df[col] = df[col].method(value) instead, to perform the operation inplace on the original object.\n",
      "\n",
      "\n",
      "  test_df['News_headline'].fillna(test_df['News_title'], inplace=True)\n"
     ]
    }
   ],
   "source": [
    "\n",
    "test_df['News_headline'].fillna(test_df['News_title'], inplace=True)"
   ]
  },
  {
   "cell_type": "code",
   "execution_count": 433,
   "id": "defbb841-f6d8-4724-ac9f-3db791f0ccad",
   "metadata": {},
   "outputs": [
    {
     "data": {
      "text/plain": [
       "3484"
      ]
     },
     "execution_count": 433,
     "metadata": {},
     "output_type": "execute_result"
    }
   ],
   "source": [
    "len(test_df['News_headline'])"
   ]
  },
  {
   "cell_type": "code",
   "execution_count": 435,
   "id": "6d329416-b001-47d1-b0fd-8df0b0b9e7af",
   "metadata": {},
   "outputs": [],
   "source": [
    "\n",
    "test_df['transformed_news_title']=test_df['News_title'].apply(transform_text)\n"
   ]
  },
  {
   "cell_type": "code",
   "execution_count": 437,
   "id": "1c34b1d3-1004-49f0-b4f2-f2a9dc5cc082",
   "metadata": {},
   "outputs": [],
   "source": [
    "test_df['transformed_news_headline']=test_df['News_headline'].apply(transform_text)"
   ]
  },
  {
   "cell_type": "code",
   "execution_count": 439,
   "id": "56118346-7fb1-4e1d-9c6e-78e10059bf5b",
   "metadata": {},
   "outputs": [
    {
     "name": "stdout",
     "output_type": "stream",
     "text": [
      "<class 'pandas.core.frame.DataFrame'>\n",
      "RangeIndex: 3484 entries, 0 to 3483\n",
      "Data columns (total 5 columns):\n",
      " #   Column                     Non-Null Count  Dtype \n",
      "---  ------                     --------------  ----- \n",
      " 0   ID                         3484 non-null   int64 \n",
      " 1   News_title                 3484 non-null   object\n",
      " 2   News_headline              3484 non-null   object\n",
      " 3   transformed_news_title     3484 non-null   object\n",
      " 4   transformed_news_headline  3484 non-null   object\n",
      "dtypes: int64(1), object(4)\n",
      "memory usage: 136.2+ KB\n"
     ]
    }
   ],
   "source": [
    "test_df.info()"
   ]
  },
  {
   "cell_type": "code",
   "execution_count": 441,
   "id": "7fa04551-d0c7-4696-824b-4fd75a6749ff",
   "metadata": {},
   "outputs": [
    {
     "data": {
      "text/plain": [
       "(3484, 5)"
      ]
     },
     "execution_count": 441,
     "metadata": {},
     "output_type": "execute_result"
    }
   ],
   "source": [
    "test_df.shape"
   ]
  },
  {
   "cell_type": "code",
   "execution_count": 443,
   "id": "02f9d85b-24f8-493b-b3b7-76de5da810e6",
   "metadata": {},
   "outputs": [],
   "source": [
    "test_df['combined_text'] = test_df['transformed_news_headline'] + \" \" + test_df['transformed_news_title']"
   ]
  },
  {
   "cell_type": "code",
   "execution_count": 459,
   "id": "6a85378d-7fdb-4b51-b46c-cf84060c4c09",
   "metadata": {},
   "outputs": [
    {
     "data": {
      "text/plain": [
       "(3484,)"
      ]
     },
     "execution_count": 459,
     "metadata": {},
     "output_type": "execute_result"
    }
   ],
   "source": [
    "test_df['combined_text'].shape"
   ]
  },
  {
   "cell_type": "code",
   "execution_count": 447,
   "id": "0ef0f7ca-3287-4a2b-b7f7-2d9ffa4fa92f",
   "metadata": {},
   "outputs": [],
   "source": [
    "X_test_combined_text=cv.transform(test_df['combined_text']).toarray()"
   ]
  },
  {
   "cell_type": "code",
   "execution_count": 455,
   "id": "55e971a5-da13-47bd-ad4d-a28c6816405c",
   "metadata": {},
   "outputs": [],
   "source": [
    "y_test_pred=mnb.predict(X_test_combined_text)"
   ]
  },
  {
   "cell_type": "code",
   "execution_count": 555,
   "id": "c7cc7576-7358-43e8-9278-fd9c74f5d18e",
   "metadata": {},
   "outputs": [],
   "source": [
    "submission = pd.DataFrame({\n",
    "    'ID': test_df['ID'],\n",
    "    'Category': y_test_pred\n",
    "})"
   ]
  },
  {
   "cell_type": "code",
   "execution_count": 557,
   "id": "043a504a-5671-4b4a-9979-a80029fac4ad",
   "metadata": {},
   "outputs": [
    {
     "name": "stdout",
     "output_type": "stream",
     "text": [
      "        ID  Category\n",
      "0        1         3\n",
      "1        2         3\n",
      "2        3         3\n",
      "3        4         4\n",
      "4        5         3\n",
      "...    ...       ...\n",
      "3479  3480         3\n",
      "3480  3481         3\n",
      "3481  3482         3\n",
      "3482  3483         3\n",
      "3483  3484         3\n",
      "\n",
      "[3484 rows x 2 columns]\n"
     ]
    }
   ],
   "source": [
    "print(submission)"
   ]
  },
  {
   "cell_type": "code",
   "execution_count": 559,
   "id": "3bf77e24-5968-48e4-b2c3-2604801df42b",
   "metadata": {},
   "outputs": [],
   "source": [
    "submission.to_excel('submission.xlsm', index=False)"
   ]
  },
  {
   "cell_type": "code",
   "execution_count": 553,
   "id": "3c619449-37c9-462f-96f0-9a1ed93d3e26",
   "metadata": {},
   "outputs": [
    {
     "name": "stdout",
     "output_type": "stream",
     "text": [
      "(3484, 2)\n"
     ]
    }
   ],
   "source": [
    "print(submission.shape)\n"
   ]
  },
  {
   "cell_type": "code",
   "execution_count": null,
   "id": "29c7aeab-10e1-4f69-9ce1-db21da873298",
   "metadata": {},
   "outputs": [],
   "source": [
    "ID=test_df['ID']."
   ]
  },
  {
   "cell_type": "code",
   "execution_count": null,
   "id": "f89ce30f-699c-42f9-9d03-59dd8bb1738a",
   "metadata": {},
   "outputs": [],
   "source": [
    "da = {'ID': test_df['ID'],\n",
    "        'Category': y_test_pred}\n",
    "df = pd.DataFrame(data)"
   ]
  }
 ],
 "metadata": {
  "kernelspec": {
   "display_name": "Python 3 (ipykernel)",
   "language": "python",
   "name": "python3"
  },
  "language_info": {
   "codemirror_mode": {
    "name": "ipython",
    "version": 3
   },
   "file_extension": ".py",
   "mimetype": "text/x-python",
   "name": "python",
   "nbconvert_exporter": "python",
   "pygments_lexer": "ipython3",
   "version": "3.12.4"
  }
 },
 "nbformat": 4,
 "nbformat_minor": 5
}
